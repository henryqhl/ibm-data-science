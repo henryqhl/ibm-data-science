{
  "metadata": {
    "language_info": {
      "codemirror_mode": {
        "name": "python",
        "version": 3
      },
      "file_extension": ".py",
      "mimetype": "text/x-python",
      "name": "python",
      "nbconvert_exporter": "python",
      "pygments_lexer": "ipython3",
      "version": "3.8"
    },
    "kernelspec": {
      "name": "python",
      "display_name": "Pyolite",
      "language": "python"
    }
  },
  "nbformat_minor": 4,
  "nbformat": 4,
  "cells": [
    {
      "cell_type": "markdown",
      "source": "# My Jupyter Notebook on IBM Watson Studio",
      "metadata": {}
    },
    {
      "cell_type": "markdown",
      "source": "**Henry Lin**\nData Services Engineer",
      "metadata": {}
    },
    {
      "cell_type": "markdown",
      "source": "*I am interested in data science because it becomes more and more useful as data grows up rapidly in recent digital world.*",
      "metadata": {}
    },
    {
      "cell_type": "markdown",
      "source": "### Say hello ###",
      "metadata": {}
    },
    {
      "cell_type": "code",
      "source": "print('Hello world!')",
      "metadata": {
        "trusted": true
      },
      "execution_count": 1,
      "outputs": [
        {
          "name": "stdout",
          "text": "Hello world!\n",
          "output_type": "stream"
        }
      ]
    },
    {
      "cell_type": "markdown",
      "source": "My favourite colors:\n\n* Red\n* Green\n* Blue\n\n---\n\nHow to put an elphant into a fridge?\n\n1. Open the fridge.\n2. Put the elephant inside.\n3. Close the fridge.\n\n---\n\nMy friends\n\n|First name|Last name|Gender|\n|---|---|---|\n|Bear|Li|Male|\n|Fei|Wang|Male|\n|Natalie|Deng|Female|\n\n---\n\n[The first website I have visited](https://www.yahoo.com)\n\nIt looked like\n\n![Yahoo!](https://www.versionmuseum.com/images/websites/yahoo-website/yahoo-website%5E1995%5Ehomepage2.png)\n\n---\n\nCode in above cell:\n\n```python\nprint('Hello world!')\n```\n\n---\n\nForrest Gump\n    My mom always said life was like a box of chocolates. You never know what you're gonna get.\n\n---\n\n~Do give me full score!!!-",
      "metadata": {}
    },
    {
      "cell_type": "code",
      "source": "",
      "metadata": {},
      "execution_count": null,
      "outputs": []
    }
  ]
}